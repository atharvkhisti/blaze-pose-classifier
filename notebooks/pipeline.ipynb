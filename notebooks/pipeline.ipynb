{
 "cells": [
  {
   "cell_type": "markdown",
   "id": "ab767d78",
   "metadata": {},
   "source": [
    "# BlazePose Exercise Classifier — Local Pipeline\n",
    "Use this notebook to run the end-to-end pipeline locally in VS Code."
   ]
  },
  {
   "cell_type": "code",
   "execution_count": null,
   "id": "e48bd142",
   "metadata": {},
   "outputs": [],
   "source": [
    "# Environment check (optional)\n",
    "import sys, platform\n",
    "print(sys.version)\n",
    "print(platform.platform())"
   ]
  },
  {
   "cell_type": "code",
   "execution_count": null,
   "id": "6191953f",
   "metadata": {},
   "outputs": [],
   "source": [
    "# Extract landmarks (edit paths as needed)\n",
    "!py ../src/extract_landmarks.py --input ../data/mmfit_videos ../data/kaggle_pushup --output ../landmarks --name mmfit_videos_landmarks.csv"
   ]
  },
  {
   "cell_type": "code",
   "execution_count": null,
   "id": "01d357fb",
   "metadata": {},
   "outputs": [],
   "source": [
    "# Feature engineering\n",
    "!py ../src/feature_engineering.py --landmarks ../landmarks/mmfit_videos_landmarks.csv --out ../features/mmfit_features.pkl"
   ]
  },
  {
   "cell_type": "code",
   "execution_count": null,
   "id": "db65188a",
   "metadata": {},
   "outputs": [],
   "source": [
    "# Windowing + labels\n",
    "!py ../src/windowing.py --features ../features/mmfit_features.pkl --labels ../data/video_labels.csv --out ../features/mmfit_windows.pkl"
   ]
  },
  {
   "cell_type": "code",
   "execution_count": null,
   "id": "7adce7ab",
   "metadata": {},
   "outputs": [],
   "source": [
    "# Train models & visualize\n",
    "!py ../src/train_models.py --windows ../features/mmfit_windows.pkl --results ../results --models ../models"
   ]
  },
  {
   "cell_type": "code",
   "execution_count": null,
   "id": "c64557be",
   "metadata": {},
   "outputs": [],
   "source": [
    "# Rep counting example\n",
    "!py ../src/rep_counting.py --features ../features/mmfit_features.pkl --video example1.mp4 --exercise biceps"
   ]
  }
 ],
 "metadata": {
  "language_info": {
   "name": "python"
  }
 },
 "nbformat": 4,
 "nbformat_minor": 5
}
